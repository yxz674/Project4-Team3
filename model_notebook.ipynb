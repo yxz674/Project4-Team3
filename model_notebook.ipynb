{
 "cells": [
  {
   "cell_type": "markdown",
   "metadata": {},
   "source": [
    "# final model code for use in AWS Application #"
   ]
  },
  {
   "cell_type": "code",
   "execution_count": 1,
   "metadata": {},
   "outputs": [],
   "source": [
    "# import libraries\n",
    "import numpy as np\n",
    "import pandas as pd\n",
    "import matplotlib.pyplot as plt\n",
    "import seaborn as sns\n",
    "\n",
    "# sklearn libraries\n",
    "from sklearn.model_selection import train_test_split\n",
    "\n",
    "\n",
    "# import scaler and tree\n",
    "from sklearn.preprocessing import StandardScaler\n",
    "from sklearn.ensemble import RandomForestClassifier\n",
    "\n",
    "\n"
   ]
  },
  {
   "cell_type": "code",
   "execution_count": 2,
   "metadata": {},
   "outputs": [],
   "source": [
    "# read the contents of a zip file\n",
    "import zipfile\n",
    "with zipfile.ZipFile(\"hrdata.zip\",\"r\") as zip_ref:\n",
    "    zip_ref.extractall(\"datafiles\")"
   ]
  },
  {
   "cell_type": "code",
   "execution_count": 3,
   "metadata": {},
   "outputs": [
    {
     "name": "stdout",
     "output_type": "stream",
     "text": [
      "<class 'pandas.core.frame.DataFrame'>\n",
      "RangeIndex: 15002 entries, 0 to 15001\n",
      "Data columns (total 10 columns):\n",
      " #   Column                 Non-Null Count  Dtype  \n",
      "---  ------                 --------------  -----  \n",
      " 0   satisfaction_level     15000 non-null  float64\n",
      " 1   last_evaluation        15002 non-null  float64\n",
      " 2   number_project         15002 non-null  int64  \n",
      " 3   average_monthly_hours  15002 non-null  int64  \n",
      " 4   time_spend_company     15002 non-null  int64  \n",
      " 5   Work_accident          15002 non-null  int64  \n",
      " 6   left                   15002 non-null  int64  \n",
      " 7   promotion_last_5years  15002 non-null  int64  \n",
      " 8   department             15002 non-null  object \n",
      " 9   salary                 15002 non-null  object \n",
      "dtypes: float64(2), int64(6), object(2)\n",
      "memory usage: 1.1+ MB\n"
     ]
    }
   ],
   "source": [
    "# read the contents of a csv file\n",
    "df = pd.read_csv(r\"datafiles\\HR.csv\")\n",
    "df.info()"
   ]
  },
  {
   "cell_type": "code",
   "execution_count": 4,
   "metadata": {},
   "outputs": [
    {
     "name": "stdout",
     "output_type": "stream",
     "text": [
      "<class 'pandas.core.frame.DataFrame'>\n",
      "RangeIndex: 15002 entries, 0 to 15001\n",
      "Data columns (total 10 columns):\n",
      " #   Column                 Non-Null Count  Dtype  \n",
      "---  ------                 --------------  -----  \n",
      " 0   satisfaction_level     15000 non-null  float64\n",
      " 1   last_evaluation        15002 non-null  float64\n",
      " 2   number_project         15002 non-null  int64  \n",
      " 3   average_monthly_hours  15002 non-null  int64  \n",
      " 4   time_spend_company     15002 non-null  int64  \n",
      " 5   Work_accident          15002 non-null  int64  \n",
      " 6   left                   15002 non-null  int64  \n",
      " 7   promotion_last_5years  15002 non-null  int64  \n",
      " 8   department             15002 non-null  object \n",
      " 9   salary                 15002 non-null  object \n",
      "dtypes: float64(2), int64(6), object(2)\n",
      "memory usage: 1.1+ MB\n"
     ]
    }
   ],
   "source": [
    "# review the data types of the columns\n",
    "df.info()"
   ]
  },
  {
   "cell_type": "code",
   "execution_count": 5,
   "metadata": {},
   "outputs": [
    {
     "name": "stdout",
     "output_type": "stream",
     "text": [
      "<class 'pandas.core.frame.DataFrame'>\n",
      "Int64Index: 15000 entries, 0 to 15001\n",
      "Data columns (total 10 columns):\n",
      " #   Column                 Non-Null Count  Dtype  \n",
      "---  ------                 --------------  -----  \n",
      " 0   satisfaction_level     15000 non-null  float64\n",
      " 1   last_evaluation        15000 non-null  float64\n",
      " 2   number_project         15000 non-null  int64  \n",
      " 3   average_monthly_hours  15000 non-null  int64  \n",
      " 4   time_spend_company     15000 non-null  int64  \n",
      " 5   Work_accident          15000 non-null  int64  \n",
      " 6   left                   15000 non-null  int64  \n",
      " 7   promotion_last_5years  15000 non-null  int64  \n",
      " 8   department             15000 non-null  object \n",
      " 9   salary                 15000 non-null  object \n",
      "dtypes: float64(2), int64(6), object(2)\n",
      "memory usage: 1.3+ MB\n"
     ]
    }
   ],
   "source": [
    "# drop the rows with null values\n",
    "df_drop = df.dropna()\n",
    "# df_drop.info()\n",
    "df = df_drop\n",
    "df.info()"
   ]
  },
  {
   "cell_type": "markdown",
   "metadata": {},
   "source": [
    "#### As seen in the feature selection, department and promotion are not meaningful in predicting the if an employee may leave and will be removed from the modeling data. ####"
   ]
  },
  {
   "cell_type": "code",
   "execution_count": 6,
   "metadata": {},
   "outputs": [
    {
     "name": "stdout",
     "output_type": "stream",
     "text": [
      "<class 'pandas.core.frame.DataFrame'>\n",
      "Int64Index: 15000 entries, 0 to 15001\n",
      "Data columns (total 8 columns):\n",
      " #   Column                 Non-Null Count  Dtype  \n",
      "---  ------                 --------------  -----  \n",
      " 0   satisfaction_level     15000 non-null  float64\n",
      " 1   last_evaluation        15000 non-null  float64\n",
      " 2   number_project         15000 non-null  int64  \n",
      " 3   average_monthly_hours  15000 non-null  int64  \n",
      " 4   time_spend_company     15000 non-null  int64  \n",
      " 5   Work_accident          15000 non-null  int64  \n",
      " 6   left                   15000 non-null  int64  \n",
      " 7   salary                 15000 non-null  object \n",
      "dtypes: float64(2), int64(5), object(1)\n",
      "memory usage: 1.0+ MB\n"
     ]
    }
   ],
   "source": [
    "df = df.drop(['department', 'promotion_last_5years'], axis=1)\n",
    "df.info()"
   ]
  },
  {
   "cell_type": "code",
   "execution_count": 7,
   "metadata": {},
   "outputs": [
    {
     "name": "stdout",
     "output_type": "stream",
     "text": [
      "<class 'pandas.core.frame.DataFrame'>\n",
      "Int64Index: 15000 entries, 0 to 15001\n",
      "Data columns (total 11 columns):\n",
      " #   Column                 Non-Null Count  Dtype  \n",
      "---  ------                 --------------  -----  \n",
      " 0   satisfaction_level     15000 non-null  float64\n",
      " 1   last_evaluation        15000 non-null  float64\n",
      " 2   number_project         15000 non-null  int64  \n",
      " 3   average_monthly_hours  15000 non-null  int64  \n",
      " 4   time_spend_company     15000 non-null  int64  \n",
      " 5   Work_accident          15000 non-null  int64  \n",
      " 6   left                   15000 non-null  int64  \n",
      " 7   salary_high            15000 non-null  uint8  \n",
      " 8   salary_low             15000 non-null  uint8  \n",
      " 9   salary_medium          15000 non-null  uint8  \n",
      " 10  salary_nme             15000 non-null  uint8  \n",
      "dtypes: float64(2), int64(5), uint8(4)\n",
      "memory usage: 996.1 KB\n"
     ]
    }
   ],
   "source": [
    "df_dummies = pd.get_dummies(df, columns=[\"salary\"])\n",
    "df_dummies.info()"
   ]
  },
  {
   "cell_type": "code",
   "execution_count": 8,
   "metadata": {},
   "outputs": [
    {
     "name": "stdout",
     "output_type": "stream",
     "text": [
      "<class 'pandas.core.frame.DataFrame'>\n",
      "Int64Index: 1000 entries, 12297 to 14587\n",
      "Data columns (total 11 columns):\n",
      " #   Column                 Non-Null Count  Dtype  \n",
      "---  ------                 --------------  -----  \n",
      " 0   satisfaction_level     1000 non-null   float64\n",
      " 1   last_evaluation        1000 non-null   float64\n",
      " 2   number_project         1000 non-null   int64  \n",
      " 3   average_monthly_hours  1000 non-null   int64  \n",
      " 4   time_spend_company     1000 non-null   int64  \n",
      " 5   Work_accident          1000 non-null   int64  \n",
      " 6   left                   1000 non-null   int64  \n",
      " 7   salary_high            1000 non-null   uint8  \n",
      " 8   salary_low             1000 non-null   uint8  \n",
      " 9   salary_medium          1000 non-null   uint8  \n",
      " 10  salary_nme             1000 non-null   uint8  \n",
      "dtypes: float64(2), int64(5), uint8(4)\n",
      "memory usage: 66.4 KB\n"
     ]
    }
   ],
   "source": [
    "# remove random 1000 rows from df_dummies and copy to a new dataframe called df_dummies_later\n",
    "df_dummies_later = df_dummies.sample(n=1000)\n",
    "\n",
    "\n",
    "# df_dummies_later = df_dummies.drop(df_dummies.index[1000:])\n",
    "df_dummies_later.info()\n"
   ]
  },
  {
   "cell_type": "code",
   "execution_count": 9,
   "metadata": {},
   "outputs": [],
   "source": [
    "# create a loop to delete each row in the df_dummies_later dataframe from the df_dummies dataframe\n",
    "for index, row in df_dummies_later.iterrows():\n",
    "    df_dummies = df_dummies.drop(index)\n",
    "\n",
    "\n",
    "# for i in range(1000):\n",
    "#     df_dummies = df_dummies.drop(df_dummies.index[0])\n",
    "    "
   ]
  },
  {
   "cell_type": "code",
   "execution_count": 10,
   "metadata": {},
   "outputs": [
    {
     "name": "stdout",
     "output_type": "stream",
     "text": [
      "<class 'pandas.core.frame.DataFrame'>\n",
      "Int64Index: 14000 entries, 0 to 15001\n",
      "Data columns (total 11 columns):\n",
      " #   Column                 Non-Null Count  Dtype  \n",
      "---  ------                 --------------  -----  \n",
      " 0   satisfaction_level     14000 non-null  float64\n",
      " 1   last_evaluation        14000 non-null  float64\n",
      " 2   number_project         14000 non-null  int64  \n",
      " 3   average_monthly_hours  14000 non-null  int64  \n",
      " 4   time_spend_company     14000 non-null  int64  \n",
      " 5   Work_accident          14000 non-null  int64  \n",
      " 6   left                   14000 non-null  int64  \n",
      " 7   salary_high            14000 non-null  uint8  \n",
      " 8   salary_low             14000 non-null  uint8  \n",
      " 9   salary_medium          14000 non-null  uint8  \n",
      " 10  salary_nme             14000 non-null  uint8  \n",
      "dtypes: float64(2), int64(5), uint8(4)\n",
      "memory usage: 929.7 KB\n"
     ]
    }
   ],
   "source": [
    "df_dummies.info()"
   ]
  },
  {
   "cell_type": "code",
   "execution_count": 11,
   "metadata": {},
   "outputs": [
    {
     "name": "stdout",
     "output_type": "stream",
     "text": [
      "Shape:  (14000, 10) (14000,)\n"
     ]
    }
   ],
   "source": [
    "# create and split the training and test sets\n",
    "X = df_dummies.drop(['left'], axis=1)\n",
    "y = df_dummies['left']\n",
    "print(\"Shape: \", X.shape, y.shape)"
   ]
  },
  {
   "cell_type": "markdown",
   "metadata": {},
   "source": [
    "### create the testing and training data ###"
   ]
  },
  {
   "cell_type": "code",
   "execution_count": 12,
   "metadata": {},
   "outputs": [],
   "source": [
    "X_train, X_test, y_train, y_test = train_test_split(X, y, test_size=0.2, random_state=42)"
   ]
  },
  {
   "cell_type": "markdown",
   "metadata": {},
   "source": [
    "### Linear and Logicstic Regression on on Non Scaled Data ###"
   ]
  },
  {
   "cell_type": "markdown",
   "metadata": {},
   "source": [
    "#### Scaling the data ####"
   ]
  },
  {
   "cell_type": "code",
   "execution_count": 13,
   "metadata": {},
   "outputs": [],
   "source": [
    "# scaling the X Data by using the standardScaler()\n",
    "scaler = StandardScaler()\n",
    "X_train_scaled = scaler.fit_transform(X_train)\n",
    "X_test_scaled = scaler.transform(X_test)"
   ]
  },
  {
   "cell_type": "code",
   "execution_count": 14,
   "metadata": {},
   "outputs": [
    {
     "name": "stdout",
     "output_type": "stream",
     "text": [
      "Scaled Training Data Score: 0.9998214285714285\n",
      "Scaled Testing Data Score: 0.9903571428571428\n"
     ]
    }
   ],
   "source": [
    "rfc = RandomForestClassifier(random_state=1, n_estimators=50).fit(X_train_scaled, y_train)\n",
    "# print the scores\n",
    "print(f\"Scaled Training Data Score: {rfc.score(X_train_scaled, y_train)}\")\n",
    "print(f\"Scaled Testing Data Score: {rfc.score(X_test_scaled, y_test)}\")"
   ]
  },
  {
   "cell_type": "code",
   "execution_count": 15,
   "metadata": {},
   "outputs": [
    {
     "name": "stdout",
     "output_type": "stream",
     "text": [
      "Shape:  (1000, 10) (1000,)\n"
     ]
    }
   ],
   "source": [
    "# create test sets\n",
    "X = df_dummies_later.drop(['left'], axis=1)\n",
    "y = df_dummies_later['left']\n",
    "print(\"Shape: \", X.shape, y.shape)"
   ]
  },
  {
   "cell_type": "markdown",
   "metadata": {},
   "source": [
    "# the model code below will run for all future indidivdual or groups of employees #\n"
   ]
  },
  {
   "cell_type": "code",
   "execution_count": 16,
   "metadata": {},
   "outputs": [
    {
     "name": "stdout",
     "output_type": "stream",
     "text": [
      "Testing Data Score: 0.999\n"
     ]
    }
   ],
   "source": [
    "# use the df_dummies_later data in the randomforestclassifier model\n",
    "rfc = RandomForestClassifier(random_state=1, n_estimators=50).fit(X, y)\n",
    "print(f\"Testing Data Score: {rfc.score(X, y)}\")"
   ]
  }
 ],
 "metadata": {
  "interpreter": {
   "hash": "bce03e0203ca6d29490e03d392228e90828a57ede4d3c15fe8f3c680f7829612"
  },
  "kernelspec": {
   "display_name": "Python 3.8.8 64-bit ('base': conda)",
   "language": "python",
   "name": "python3"
  },
  "language_info": {
   "codemirror_mode": {
    "name": "ipython",
    "version": 3
   },
   "file_extension": ".py",
   "mimetype": "text/x-python",
   "name": "python",
   "nbconvert_exporter": "python",
   "pygments_lexer": "ipython3",
   "version": "3.8.8"
  },
  "orig_nbformat": 4
 },
 "nbformat": 4,
 "nbformat_minor": 2
}

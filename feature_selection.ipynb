{
 "cells": [
  {
   "cell_type": "code",
   "execution_count": 3,
   "metadata": {},
   "outputs": [],
   "source": [
    "%matplotlib inline\n",
    "from matplotlib import pyplot as plt\n",
    "from sklearn.datasets import make_classification\n",
    "import numpy as np\n",
    "import pandas as pd\n",
    "from sklearn.ensemble import RandomForestClassifier\n",
    "from sklearn.linear_model import LogisticRegression\n",
    "from sklearn.model_selection import train_test_split\n",
    "from sklearn.preprocessing import StandardScaler"
   ]
  },
  {
   "cell_type": "code",
   "execution_count": 4,
   "metadata": {},
   "outputs": [
    {
     "name": "stdout",
     "output_type": "stream",
     "text": [
      "<class 'pandas.core.frame.DataFrame'>\n",
      "RangeIndex: 15002 entries, 0 to 15001\n",
      "Data columns (total 10 columns):\n",
      " #   Column                 Non-Null Count  Dtype  \n",
      "---  ------                 --------------  -----  \n",
      " 0   satisfaction_level     15000 non-null  float64\n",
      " 1   last_evaluation        15002 non-null  float64\n",
      " 2   number_project         15002 non-null  int64  \n",
      " 3   average_monthly_hours  15002 non-null  int64  \n",
      " 4   time_spend_company     15002 non-null  int64  \n",
      " 5   Work_accident          15002 non-null  int64  \n",
      " 6   left                   15002 non-null  int64  \n",
      " 7   promotion_last_5years  15002 non-null  int64  \n",
      " 8   department             15002 non-null  object \n",
      " 9   salary                 15002 non-null  object \n",
      "dtypes: float64(2), int64(6), object(2)\n",
      "memory usage: 1.1+ MB\n"
     ]
    }
   ],
   "source": [
    "# read the contents of a csv file\n",
    "df = pd.read_csv(r\"datafiles\\HR.csv\")\n",
    "df.info()"
   ]
  },
  {
   "cell_type": "code",
   "execution_count": 5,
   "metadata": {},
   "outputs": [
    {
     "name": "stdout",
     "output_type": "stream",
     "text": [
      "<class 'pandas.core.frame.DataFrame'>\n",
      "RangeIndex: 15002 entries, 0 to 15001\n",
      "Data columns (total 10 columns):\n",
      " #   Column                 Non-Null Count  Dtype  \n",
      "---  ------                 --------------  -----  \n",
      " 0   satisfaction_level     15000 non-null  float64\n",
      " 1   last_evaluation        15002 non-null  float64\n",
      " 2   number_project         15002 non-null  int64  \n",
      " 3   average_monthly_hours  15002 non-null  int64  \n",
      " 4   time_spend_company     15002 non-null  int64  \n",
      " 5   Work_accident          15002 non-null  int64  \n",
      " 6   left                   15002 non-null  int64  \n",
      " 7   promotion_last_5years  15002 non-null  int64  \n",
      " 8   department             15002 non-null  object \n",
      " 9   salary                 15002 non-null  object \n",
      "dtypes: float64(2), int64(6), object(2)\n",
      "memory usage: 1.1+ MB\n"
     ]
    }
   ],
   "source": [
    "# review the data types of the columns\n",
    "df.info()"
   ]
  },
  {
   "cell_type": "code",
   "execution_count": 6,
   "metadata": {},
   "outputs": [
    {
     "data": {
      "text/plain": [
       "satisfaction_level       2\n",
       "last_evaluation          0\n",
       "number_project           0\n",
       "average_monthly_hours    0\n",
       "time_spend_company       0\n",
       "Work_accident            0\n",
       "left                     0\n",
       "promotion_last_5years    0\n",
       "department               0\n",
       "salary                   0\n",
       "dtype: int64"
      ]
     },
     "execution_count": 6,
     "metadata": {},
     "output_type": "execute_result"
    }
   ],
   "source": [
    "# check for null values\n",
    "df.isnull().sum()"
   ]
  },
  {
   "cell_type": "code",
   "execution_count": 7,
   "metadata": {},
   "outputs": [
    {
     "data": {
      "text/html": [
       "<div>\n",
       "<style scoped>\n",
       "    .dataframe tbody tr th:only-of-type {\n",
       "        vertical-align: middle;\n",
       "    }\n",
       "\n",
       "    .dataframe tbody tr th {\n",
       "        vertical-align: top;\n",
       "    }\n",
       "\n",
       "    .dataframe thead th {\n",
       "        text-align: right;\n",
       "    }\n",
       "</style>\n",
       "<table border=\"1\" class=\"dataframe\">\n",
       "  <thead>\n",
       "    <tr style=\"text-align: right;\">\n",
       "      <th></th>\n",
       "      <th>satisfaction_level</th>\n",
       "      <th>last_evaluation</th>\n",
       "      <th>number_project</th>\n",
       "      <th>average_monthly_hours</th>\n",
       "      <th>time_spend_company</th>\n",
       "      <th>Work_accident</th>\n",
       "      <th>left</th>\n",
       "      <th>promotion_last_5years</th>\n",
       "      <th>department</th>\n",
       "      <th>salary</th>\n",
       "    </tr>\n",
       "  </thead>\n",
       "  <tbody>\n",
       "    <tr>\n",
       "      <th>14999</th>\n",
       "      <td>NaN</td>\n",
       "      <td>0.52</td>\n",
       "      <td>2</td>\n",
       "      <td>158</td>\n",
       "      <td>3</td>\n",
       "      <td>0</td>\n",
       "      <td>1</td>\n",
       "      <td>0</td>\n",
       "      <td>support</td>\n",
       "      <td>low</td>\n",
       "    </tr>\n",
       "    <tr>\n",
       "      <th>15000</th>\n",
       "      <td>NaN</td>\n",
       "      <td>999999.00</td>\n",
       "      <td>2</td>\n",
       "      <td>158</td>\n",
       "      <td>3</td>\n",
       "      <td>0</td>\n",
       "      <td>1</td>\n",
       "      <td>0</td>\n",
       "      <td>sale</td>\n",
       "      <td>low</td>\n",
       "    </tr>\n",
       "  </tbody>\n",
       "</table>\n",
       "</div>"
      ],
      "text/plain": [
       "       satisfaction_level  last_evaluation  number_project  \\\n",
       "14999                 NaN             0.52               2   \n",
       "15000                 NaN        999999.00               2   \n",
       "\n",
       "       average_monthly_hours  time_spend_company  Work_accident  left  \\\n",
       "14999                    158                   3              0     1   \n",
       "15000                    158                   3              0     1   \n",
       "\n",
       "       promotion_last_5years department salary  \n",
       "14999                      0    support    low  \n",
       "15000                      0       sale    low  "
      ]
     },
     "execution_count": 7,
     "metadata": {},
     "output_type": "execute_result"
    }
   ],
   "source": [
    "# show the rows with null values\n",
    "df_null = df[df.isnull().any(axis=1)]\n",
    "df_null.head()"
   ]
  },
  {
   "cell_type": "code",
   "execution_count": 8,
   "metadata": {},
   "outputs": [
    {
     "name": "stdout",
     "output_type": "stream",
     "text": [
      "<class 'pandas.core.frame.DataFrame'>\n",
      "Int64Index: 15000 entries, 0 to 15001\n",
      "Data columns (total 10 columns):\n",
      " #   Column                 Non-Null Count  Dtype  \n",
      "---  ------                 --------------  -----  \n",
      " 0   satisfaction_level     15000 non-null  float64\n",
      " 1   last_evaluation        15000 non-null  float64\n",
      " 2   number_project         15000 non-null  int64  \n",
      " 3   average_monthly_hours  15000 non-null  int64  \n",
      " 4   time_spend_company     15000 non-null  int64  \n",
      " 5   Work_accident          15000 non-null  int64  \n",
      " 6   left                   15000 non-null  int64  \n",
      " 7   promotion_last_5years  15000 non-null  int64  \n",
      " 8   department             15000 non-null  object \n",
      " 9   salary                 15000 non-null  object \n",
      "dtypes: float64(2), int64(6), object(2)\n",
      "memory usage: 1.3+ MB\n"
     ]
    }
   ],
   "source": [
    "# drop the rows with null values\n",
    "df_drop = df.dropna()\n",
    "# df_drop.info()\n",
    "df = df_drop\n",
    "df.info()"
   ]
  },
  {
   "cell_type": "code",
   "execution_count": 9,
   "metadata": {},
   "outputs": [
    {
     "name": "stdout",
     "output_type": "stream",
     "text": [
      "<class 'pandas.core.frame.DataFrame'>\n",
      "Int64Index: 15000 entries, 0 to 15001\n",
      "Data columns (total 23 columns):\n",
      " #   Column                  Non-Null Count  Dtype  \n",
      "---  ------                  --------------  -----  \n",
      " 0   satisfaction_level      15000 non-null  float64\n",
      " 1   last_evaluation         15000 non-null  float64\n",
      " 2   number_project          15000 non-null  int64  \n",
      " 3   average_monthly_hours   15000 non-null  int64  \n",
      " 4   time_spend_company      15000 non-null  int64  \n",
      " 5   Work_accident           15000 non-null  int64  \n",
      " 6   left                    15000 non-null  int64  \n",
      " 7   promotion_last_5years   15000 non-null  int64  \n",
      " 8   department_IT           15000 non-null  uint8  \n",
      " 9   department_RandD        15000 non-null  uint8  \n",
      " 10  department_accounting   15000 non-null  uint8  \n",
      " 11  department_hr           15000 non-null  uint8  \n",
      " 12  department_management   15000 non-null  uint8  \n",
      " 13  department_marketing    15000 non-null  uint8  \n",
      " 14  department_product_mng  15000 non-null  uint8  \n",
      " 15  department_sale         15000 non-null  uint8  \n",
      " 16  department_sales        15000 non-null  uint8  \n",
      " 17  department_support      15000 non-null  uint8  \n",
      " 18  department_technical    15000 non-null  uint8  \n",
      " 19  salary_high             15000 non-null  uint8  \n",
      " 20  salary_low              15000 non-null  uint8  \n",
      " 21  salary_medium           15000 non-null  uint8  \n",
      " 22  salary_nme              15000 non-null  uint8  \n",
      "dtypes: float64(2), int64(6), uint8(15)\n",
      "memory usage: 1.2 MB\n"
     ]
    }
   ],
   "source": [
    "# convert department and salary to numeric values using get_dummies\n",
    "df_dummies = pd.get_dummies(df, columns=[\"department\", \"salary\"])\n",
    "df_dummies.info()"
   ]
  },
  {
   "cell_type": "code",
   "execution_count": 10,
   "metadata": {},
   "outputs": [],
   "source": [
    "# import scaler and tree\n",
    "from sklearn.preprocessing import StandardScaler\n",
    "from sklearn.tree import DecisionTreeClassifier\n",
    "from sklearn.ensemble import RandomForestClassifier"
   ]
  },
  {
   "cell_type": "code",
   "execution_count": 11,
   "metadata": {},
   "outputs": [
    {
     "name": "stdout",
     "output_type": "stream",
     "text": [
      "Shape:  (15000, 22) (15000,)\n"
     ]
    }
   ],
   "source": [
    "# create and split the training and test sets\n",
    "X = df_dummies.drop(['left'], axis=1)\n",
    "y = df_dummies['left']\n",
    "print(\"Shape: \", X.shape, y.shape)"
   ]
  },
  {
   "cell_type": "code",
   "execution_count": 12,
   "metadata": {},
   "outputs": [],
   "source": [
    "X_train, X_test, y_train, y_test = train_test_split(X, y, test_size=0.2, random_state=42)"
   ]
  },
  {
   "cell_type": "code",
   "execution_count": 13,
   "metadata": {},
   "outputs": [
    {
     "name": "stdout",
     "output_type": "stream",
     "text": [
      "Training Data Score: 1.0\n",
      "Testing Data Score: 0.9773333333333334\n"
     ]
    }
   ],
   "source": [
    "# use a decision tree model to predict the data\n",
    "# import the decision tree classifier\n",
    "from sklearn.tree import DecisionTreeClassifier\n",
    "dtc = DecisionTreeClassifier()\n",
    "dtc.fit(X_train, y_train)\n",
    "# print the scores\n",
    "print(f\"Training Data Score: {dtc.score(X_train, y_train)}\")\n",
    "print(f\"Testing Data Score: {dtc.score(X_test, y_test)}\")"
   ]
  },
  {
   "cell_type": "code",
   "execution_count": 14,
   "metadata": {},
   "outputs": [],
   "source": [
    "feature_importances = dtc.feature_importances_"
   ]
  },
  {
   "cell_type": "code",
   "execution_count": 15,
   "metadata": {},
   "outputs": [
    {
     "data": {
      "image/png": "[encoded data removed]",
      "text/plain": [
       "<Figure size 720x576 with 1 Axes>"
      ]
     },
     "metadata": {
      "needs_background": "light"
     },
     "output_type": "display_data"
    }
   ],
   "source": [
    "features = sorted(zip(X.columns, dtc.feature_importances_), key = lambda x: x[1])\n",
    "cols = [f[0] for f in features]\n",
    "width = [f[1] for f in features]\n",
    "\n",
    "fig, ax = plt.subplots()\n",
    "\n",
    "fig.set_size_inches(10, 8)\n",
    "plt.margins(y=0.001)\n",
    "\n",
    "ax.barh(y=cols, width=width)\n",
    "ax.set_xlabel('Feature Importance')\n",
    "ax.set_ylabel('Features')\n",
    "ax.set_title('Feature Importance')\n",
    "\n",
    "plt.show()"
   ]
  }
 ],
 "metadata": {
  "interpreter": {
   "hash": "bce03e0203ca6d29490e03d392228e90828a57ede4d3c15fe8f3c680f7829612"
  },
  "kernelspec": {
   "display_name": "Python 3.8.8 64-bit ('base': conda)",
   "language": "python",
   "name": "python3"
  },
  "language_info": {
   "codemirror_mode": {
    "name": "ipython",
    "version": 3
   },
   "file_extension": ".py",
   "mimetype": "text/x-python",
   "name": "python",
   "nbconvert_exporter": "python",
   "pygments_lexer": "ipython3",
   "version": "3.8.8"
  },
  "orig_nbformat": 4
 },
 "nbformat": 4,
 "nbformat_minor": 2
}
